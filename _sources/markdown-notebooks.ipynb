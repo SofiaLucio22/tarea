{
 "cells": [
  {
   "cell_type": "markdown",
   "id": "dfa63e8b",
   "metadata": {},
   "source": [
    "# Cómo fue el hundimiento del Belgrano.\n",
    "Alberto Deluchi iba a bordo del crucero argentino ARA General Belgrano cuando el buque fue atacado por el submarino británico Conqueror.\n",
    "\n",
    "Y dice que sobrevivió gracias al azar.\n",
    "\n",
    "Unos instantes antes de que el primer torpedo impactara la nave, había salido del comedor que resultó destruido y causó la muerte de decenas de hombres.\n",
    "\n",
    "“Si me quedaba conversando medio minuto más, probablemente no estaría acá”, le cuenta Deluchi a BBC Mundo.\n",
    "\n",
    "Eran las 16 horas del 2 de mayo de 1982. Había pasado justo un mes desde que militares argentinos desembarcaran en las islas Malvinas o Falklands en reclamo de su soberanía, acción que desencadenó una sangrienta guerra con Reino Unido.\n",
    "\n",
    "323 argentinos murieron en el ataque al Belgrano, casi la mitad de las 649 bajas que el país sudamericano sufrió en la guerra, en la que también perdieron la vida 255 uniformados británicos y tres isleños.\n",
    "\n",
    "Fue un momento clave en el conflicto. Y también uno de los más polémicos.\n",
    "\n",
    "40 años después, BBC Mundo te cuenta cómo fue el decisivo asalto, cuáles fueron sus consecuencias y el drama humano que desencadenó.\n",
    "\n",
    "\n",
    "![alt text](belgrano.jfif)"
   ]
  }
 ],
 "metadata": {
  "jupytext": {
   "cell_metadata_filter": "-all",
   "formats": "md:myst",
   "text_representation": {
    "extension": ".md",
    "format_name": "myst",
    "format_version": 0.13,
    "jupytext_version": "1.11.5"
   }
  },
  "kernelspec": {
   "display_name": "Python 3",
   "language": "python",
   "name": "python3"
  },
  "language_info": {
   "codemirror_mode": {
    "name": "ipython",
    "version": 3
   },
   "file_extension": ".py",
   "mimetype": "text/x-python",
   "name": "python",
   "nbconvert_exporter": "python",
   "pygments_lexer": "ipython3",
   "version": "3.10.4"
  },
  "source_map": [
   14
  ]
 },
 "nbformat": 4,
 "nbformat_minor": 5
}